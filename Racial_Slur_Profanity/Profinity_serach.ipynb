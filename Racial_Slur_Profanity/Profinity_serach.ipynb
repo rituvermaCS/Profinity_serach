{
  "cells": [
    {
      "cell_type": "markdown",
      "source": [
        "#Import Important libraries"
      ],
      "metadata": {
        "id": "1Uo6a3a5D743"
      }
    },
    {
      "cell_type": "code",
      "source": [
        "import csv\n",
        "import pandas as pd"
      ],
      "metadata": {
        "id": "toKt43CA3KqZ"
      },
      "execution_count": 1,
      "outputs": []
    },
    {
      "cell_type": "markdown",
      "source": [
        "#Open and read fileof the slurs"
      ],
      "metadata": {
        "id": "pm6uERTcEDfQ"
      }
    },
    {
      "cell_type": "code",
      "source": [
        "file = open('Slurs.csv')\n",
        "csvreader = csv.reader(file)\n",
        "\n",
        "rows = []\n",
        "for row in csvreader:\n",
        "        rows.append(row)\n",
        "\n",
        "# Racial slurs\n",
        "slurs = set(row)        "
      ],
      "metadata": {
        "id": "31M6I8MP3L1n"
      },
      "execution_count": 2,
      "outputs": []
    },
    {
      "cell_type": "markdown",
      "source": [
        "#Main module\n",
        "##step- 1 Open file of tweets which contains 80+ verified tweets \n",
        "##step- 2 Dictionary to store degree of profanity of each sentence \n",
        "##step- 3 splitting tweet to read each word \n",
        "##step- 4 check if word is recognized slur \n",
        "##step- 5 Storing degree with tweet and define profanity degree same as slur index values\n",
        "##step- 6 store the data in dataframe for clean visualization"
      ],
      "metadata": {
        "id": "09QTF60JEbgv"
      }
    },
    {
      "cell_type": "code",
      "execution_count": 3,
      "metadata": {
        "id": "gwDL7RbgKvwH"
      },
      "outputs": [],
      "source": [
        "# Opening the input file of tweets\n",
        "\n",
        "file = open(\"tweets.txt\", \"r\")      \n",
        "tweets = file.readlines()\n",
        "\n",
        "profanity = {}              \n",
        "\n",
        "for tweet in tweets:\n",
        "    degree = 0\n",
        "    for word in tweet.split():      \n",
        "        if(word.lower() or word.upper() in slurs):\n",
        "            degree+=1\n",
        "    profanity[tweet] = degree       "
      ]
    },
    {
      "cell_type": "code",
      "source": [
        "new = pd.DataFrame.from_dict([profanity])\n",
        "new.to_csv('Output.csv')"
      ],
      "metadata": {
        "id": "S2rq6b0FCfqm"
      },
      "execution_count": 4,
      "outputs": []
    }
  ],
  "metadata": {
    "colab": {
      "collapsed_sections": [],
      "name": "Untitled7.ipynb",
      "provenance": []
    },
    "kernelspec": {
      "display_name": "Python 3",
      "name": "python3"
    },
    "language_info": {
      "name": "python"
    }
  },
  "nbformat": 4,
  "nbformat_minor": 0
}